{
 "cells": [
  {
   "cell_type": "markdown",
   "metadata": {},
   "source": [
    "## Author: Emin Kartci\n",
    "\n",
    "\n",
    "```Java\n",
    "\n",
    "public static void main(String[] args){\n",
    "\n",
    "    int x = 5;\n",
    "\n",
    "}\n",
    "\n",
    "```\n",
    "\n",
    "\n",
    "1. Emin\n",
    "2. Sinem\n",
    "3. Deniz\n",
    "\n",
    "| Name      | Surname |\n",
    "| ----------- | ----------- |\n",
    "| Emin      | Kartci       |\n",
    "| Sinem   | Ozturk        |"
   ]
  },
  {
   "cell_type": "code",
   "execution_count": 3,
   "metadata": {},
   "outputs": [
    {
     "name": "stdout",
     "output_type": "stream",
     "text": [
      "Result  -43\n"
     ]
    }
   ],
   "source": [
    "x = 12\n",
    "y = 55\n",
    "\n",
    "print(\"Result \",x - y)"
   ]
  },
  {
   "cell_type": "code",
   "execution_count": null,
   "metadata": {},
   "outputs": [],
   "source": []
  }
 ],
 "metadata": {
  "kernelspec": {
   "display_name": "Python 3",
   "language": "python",
   "name": "python3"
  },
  "language_info": {
   "codemirror_mode": {
    "name": "ipython",
    "version": 3
   },
   "file_extension": ".py",
   "mimetype": "text/x-python",
   "name": "python",
   "nbconvert_exporter": "python",
   "pygments_lexer": "ipython3",
   "version": "3.8.5"
  }
 },
 "nbformat": 4,
 "nbformat_minor": 4
}
