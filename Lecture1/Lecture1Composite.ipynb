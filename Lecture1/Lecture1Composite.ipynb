{
 "cells": [
  {
   "cell_type": "markdown",
   "metadata": {},
   "source": [
    "## Author: Emin Kartci\n",
    "\n",
    "\n",
    "```Java\n",
    "\n",
    "public static void main(String[] args){\n",
    "\n",
    "    int x = 5;\n",
    "\n",
    "}\n",
    "\n",
    "```\n",
    "\n",
    "\n",
    "1. Emin\n",
    "2. Sinem\n",
    "3. Deniz\n",
    "\n",
    "| Name      | Surname |\n",
    "| ----------- | ----------- |\n",
    "| Emin      | Kartci       |\n",
    "| Sinem   | Ozturk        |"
   ]
  },
  {
   "cell_type": "code",
   "execution_count": 3,
   "metadata": {},
   "outputs": [
    {
     "name": "stdout",
     "output_type": "stream",
     "text": [
      "Result  -43\n"
     ]
    }
   ],
   "source": [
    "x = 12\n",
    "y = 55\n",
    "\n",
    "print(\"Result \",x - y)"
   ]
  },
  {
   "cell_type": "code",
   "execution_count": 17,
   "metadata": {},
   "outputs": [
    {
     "name": "stdout",
     "output_type": "stream",
     "text": [
      "Number 1: 234\n",
      "Number 2: 5\n",
      "Result:  1170\n",
      "Harezmi Function\n",
      "Harezmi Result:  1170\n"
     ]
    }
   ],
   "source": [
    "# Imports\n",
    "import math\n",
    "\n",
    "## Solitoin of Question 1\n",
    "\n",
    "\n",
    "num1 = int(input(\"Number 1: \"))\n",
    "num2 = int(input(\"Number 2: \"))\n",
    "\n",
    "result = num1 * num2;\n",
    "\n",
    "def harezmiMul(num1,num2):\n",
    "    print(\"Harezmi Function\")\n",
    "    result = 0;\n",
    "    \n",
    "    if not (num1 % 2 == 0):\n",
    "            result += num2;\n",
    "            \n",
    "    while num1 != 1:\n",
    "        num1 = math.floor(num1/2)\n",
    "        num2 *= 2\n",
    "        if not (num1 % 2 == 0):\n",
    "            result += num2;\n",
    "\n",
    "        \n",
    "    print(\"Harezmi Result: \", result)\n",
    "    \n",
    "\n",
    "print(\"Result: \" , result)\n",
    "harezmiMul(num1,num2)"
   ]
  },
  {
   "cell_type": "code",
   "execution_count": null,
   "metadata": {},
   "outputs": [],
   "source": []
  }
 ],
 "metadata": {
  "kernelspec": {
   "display_name": "Python 3",
   "language": "python",
   "name": "python3"
  },
  "language_info": {
   "codemirror_mode": {
    "name": "ipython",
    "version": 3
   },
   "file_extension": ".py",
   "mimetype": "text/x-python",
   "name": "python",
   "nbconvert_exporter": "python",
   "pygments_lexer": "ipython3",
   "version": "3.8.5"
  }
 },
 "nbformat": 4,
 "nbformat_minor": 4
}
